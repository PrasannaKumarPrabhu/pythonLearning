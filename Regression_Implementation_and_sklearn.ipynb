{
  "nbformat": 4,
  "nbformat_minor": 0,
  "metadata": {
    "colab": {
      "provenance": [],
      "include_colab_link": true
    },
    "kernelspec": {
      "name": "python3",
      "display_name": "Python 3"
    },
    "language_info": {
      "name": "python"
    }
  },
  "cells": [
    {
      "cell_type": "markdown",
      "metadata": {
        "id": "view-in-github",
        "colab_type": "text"
      },
      "source": [
        "<a href=\"https://colab.research.google.com/github/PrasannaKumarPrabhu/pythonLearning/blob/main/Regression_Implementation_and_sklearn.ipynb\" target=\"_parent\"><img src=\"https://colab.research.google.com/assets/colab-badge.svg\" alt=\"Open In Colab\"/></a>"
      ]
    },
    {
      "cell_type": "markdown",
      "source": [
        "Multi-linear regression Implementation"
      ],
      "metadata": {
        "id": "pHgsPWVpB5ed"
      }
    },
    {
      "cell_type": "code",
      "execution_count": null,
      "metadata": {
        "id": "RRgQ1SDdhC-O"
      },
      "outputs": [],
      "source": [
        "import numpy as np\n",
        "import pandas as pd\n",
        "import matplotlib.pyplot as plt"
      ]
    },
    {
      "cell_type": "code",
      "source": [
        "def predict(X, weight):\n",
        "  return np.dot(X,weight)"
      ],
      "metadata": {
        "id": "wUIeh6kEhSoY"
      },
      "execution_count": null,
      "outputs": []
    },
    {
      "cell_type": "code",
      "source": [
        "def error(X,Y,weight):\n",
        "  n = X.shape[0]\n",
        "  Y_hat = predict(X,weight)\n",
        "  e = np.sum((Y - Y_hat)**2)\n",
        "  return e/n"
      ],
      "metadata": {
        "id": "hYgGIRyhhnN-"
      },
      "execution_count": null,
      "outputs": []
    },
    {
      "cell_type": "code",
      "source": [
        "def gradient(X,Y, weight):\n",
        "  n = X.shape[0]\n",
        "  Y_hat = predict(X,weight)\n",
        "  grad = np.dot(X.T, Y_hat - Y)\n",
        "  return grad/n"
      ],
      "metadata": {
        "id": "VIu-RQE5iwGD"
      },
      "execution_count": null,
      "outputs": []
    },
    {
      "cell_type": "code",
      "source": [
        "def gradient_descent(X,Y, learning_rate = 0.1, epochs = 100):\n",
        "  d = X.shape[1]\n",
        "  weight = np.zeros((d,))\n",
        "  err_list = []\n",
        "\n",
        "  for i in range(epochs):\n",
        "    e = error(X,Y,weight)\n",
        "    err_list.append(e)\n",
        "\n",
        "    grad = gradient(X,Y,weight)\n",
        "    weight = weight - learning_rate*grad\n",
        "\n",
        "  return weight, err_list\n"
      ],
      "metadata": {
        "id": "ZpdccYNmlWWy"
      },
      "execution_count": null,
      "outputs": []
    },
    {
      "cell_type": "code",
      "source": [
        "!gdown 1UpLnYA48Vy_lGUMMLG-uQE1gf_Je12Lh"
      ],
      "metadata": {
        "colab": {
          "base_uri": "https://localhost:8080/"
        },
        "id": "aPC1aMHanY7A",
        "outputId": "48355d9b-725b-4b45-f100-33e924182ec9"
      },
      "execution_count": null,
      "outputs": [
        {
          "output_type": "stream",
          "name": "stdout",
          "text": [
            "Downloading...\n",
            "From: https://drive.google.com/uc?id=1UpLnYA48Vy_lGUMMLG-uQE1gf_Je12Lh\n",
            "To: /content/cars24-car-price-clean.csv\n",
            "\r  0% 0.00/7.10M [00:00<?, ?B/s]\r100% 7.10M/7.10M [00:00<00:00, 266MB/s]\n"
          ]
        }
      ]
    },
    {
      "cell_type": "code",
      "source": [
        "df = pd.read_csv('cars24-car-price-clean.csv')\n",
        "df.head()"
      ],
      "metadata": {
        "colab": {
          "base_uri": "https://localhost:8080/",
          "height": 287
        },
        "id": "eK8gFvowm95F",
        "outputId": "f740ed8a-e472-4b17-9c68-9322c9479ef9"
      },
      "execution_count": null,
      "outputs": [
        {
          "output_type": "execute_result",
          "data": {
            "text/plain": [
              "   selling_price      year  km_driven   mileage    engine  max_power  \\\n",
              "0      -1.111046 -0.801317   1.195828  0.045745 -1.310754  -1.157780   \n",
              "1      -0.223944  0.450030  -0.737872 -0.140402 -0.537456  -0.360203   \n",
              "2      -0.915058 -1.426990   0.035608 -0.582501 -0.537456  -0.404885   \n",
              "3      -0.892365 -0.801317  -0.409143  0.329620 -0.921213  -0.693085   \n",
              "4      -0.182683  0.137194  -0.544502  0.760085  0.042999   0.010435   \n",
              "\n",
              "        age      make     model  Individual  Trustmark Dealer    Diesel  \\\n",
              "0  0.801317 -0.433854 -1.125683    1.248892         -0.098382 -0.985275   \n",
              "1 -0.450030 -0.327501 -0.333227    1.248892         -0.098382 -0.985275   \n",
              "2  1.426990 -0.327501 -0.789807    1.248892         -0.098382 -0.985275   \n",
              "3  0.801317 -0.433854 -0.905265    1.248892         -0.098382 -0.985275   \n",
              "4 -0.137194 -0.246579 -0.013096   -0.800710         -0.098382  1.014945   \n",
              "\n",
              "   Electric       LPG    Petrol    Manual         5        >5  \n",
              "0 -0.020095 -0.056917  1.024622  0.495818  0.444503 -0.424728  \n",
              "1 -0.020095 -0.056917  1.024622  0.495818  0.444503 -0.424728  \n",
              "2 -0.020095 -0.056917  1.024622  0.495818  0.444503 -0.424728  \n",
              "3 -0.020095 -0.056917  1.024622  0.495818  0.444503 -0.424728  \n",
              "4 -0.020095 -0.056917 -0.975970  0.495818  0.444503 -0.424728  "
            ],
            "text/html": [
              "\n",
              "  <div id=\"df-6e11b2bd-47ee-4685-87df-56a5d6fe8eca\">\n",
              "    <div class=\"colab-df-container\">\n",
              "      <div>\n",
              "<style scoped>\n",
              "    .dataframe tbody tr th:only-of-type {\n",
              "        vertical-align: middle;\n",
              "    }\n",
              "\n",
              "    .dataframe tbody tr th {\n",
              "        vertical-align: top;\n",
              "    }\n",
              "\n",
              "    .dataframe thead th {\n",
              "        text-align: right;\n",
              "    }\n",
              "</style>\n",
              "<table border=\"1\" class=\"dataframe\">\n",
              "  <thead>\n",
              "    <tr style=\"text-align: right;\">\n",
              "      <th></th>\n",
              "      <th>selling_price</th>\n",
              "      <th>year</th>\n",
              "      <th>km_driven</th>\n",
              "      <th>mileage</th>\n",
              "      <th>engine</th>\n",
              "      <th>max_power</th>\n",
              "      <th>age</th>\n",
              "      <th>make</th>\n",
              "      <th>model</th>\n",
              "      <th>Individual</th>\n",
              "      <th>Trustmark Dealer</th>\n",
              "      <th>Diesel</th>\n",
              "      <th>Electric</th>\n",
              "      <th>LPG</th>\n",
              "      <th>Petrol</th>\n",
              "      <th>Manual</th>\n",
              "      <th>5</th>\n",
              "      <th>&gt;5</th>\n",
              "    </tr>\n",
              "  </thead>\n",
              "  <tbody>\n",
              "    <tr>\n",
              "      <th>0</th>\n",
              "      <td>-1.111046</td>\n",
              "      <td>-0.801317</td>\n",
              "      <td>1.195828</td>\n",
              "      <td>0.045745</td>\n",
              "      <td>-1.310754</td>\n",
              "      <td>-1.157780</td>\n",
              "      <td>0.801317</td>\n",
              "      <td>-0.433854</td>\n",
              "      <td>-1.125683</td>\n",
              "      <td>1.248892</td>\n",
              "      <td>-0.098382</td>\n",
              "      <td>-0.985275</td>\n",
              "      <td>-0.020095</td>\n",
              "      <td>-0.056917</td>\n",
              "      <td>1.024622</td>\n",
              "      <td>0.495818</td>\n",
              "      <td>0.444503</td>\n",
              "      <td>-0.424728</td>\n",
              "    </tr>\n",
              "    <tr>\n",
              "      <th>1</th>\n",
              "      <td>-0.223944</td>\n",
              "      <td>0.450030</td>\n",
              "      <td>-0.737872</td>\n",
              "      <td>-0.140402</td>\n",
              "      <td>-0.537456</td>\n",
              "      <td>-0.360203</td>\n",
              "      <td>-0.450030</td>\n",
              "      <td>-0.327501</td>\n",
              "      <td>-0.333227</td>\n",
              "      <td>1.248892</td>\n",
              "      <td>-0.098382</td>\n",
              "      <td>-0.985275</td>\n",
              "      <td>-0.020095</td>\n",
              "      <td>-0.056917</td>\n",
              "      <td>1.024622</td>\n",
              "      <td>0.495818</td>\n",
              "      <td>0.444503</td>\n",
              "      <td>-0.424728</td>\n",
              "    </tr>\n",
              "    <tr>\n",
              "      <th>2</th>\n",
              "      <td>-0.915058</td>\n",
              "      <td>-1.426990</td>\n",
              "      <td>0.035608</td>\n",
              "      <td>-0.582501</td>\n",
              "      <td>-0.537456</td>\n",
              "      <td>-0.404885</td>\n",
              "      <td>1.426990</td>\n",
              "      <td>-0.327501</td>\n",
              "      <td>-0.789807</td>\n",
              "      <td>1.248892</td>\n",
              "      <td>-0.098382</td>\n",
              "      <td>-0.985275</td>\n",
              "      <td>-0.020095</td>\n",
              "      <td>-0.056917</td>\n",
              "      <td>1.024622</td>\n",
              "      <td>0.495818</td>\n",
              "      <td>0.444503</td>\n",
              "      <td>-0.424728</td>\n",
              "    </tr>\n",
              "    <tr>\n",
              "      <th>3</th>\n",
              "      <td>-0.892365</td>\n",
              "      <td>-0.801317</td>\n",
              "      <td>-0.409143</td>\n",
              "      <td>0.329620</td>\n",
              "      <td>-0.921213</td>\n",
              "      <td>-0.693085</td>\n",
              "      <td>0.801317</td>\n",
              "      <td>-0.433854</td>\n",
              "      <td>-0.905265</td>\n",
              "      <td>1.248892</td>\n",
              "      <td>-0.098382</td>\n",
              "      <td>-0.985275</td>\n",
              "      <td>-0.020095</td>\n",
              "      <td>-0.056917</td>\n",
              "      <td>1.024622</td>\n",
              "      <td>0.495818</td>\n",
              "      <td>0.444503</td>\n",
              "      <td>-0.424728</td>\n",
              "    </tr>\n",
              "    <tr>\n",
              "      <th>4</th>\n",
              "      <td>-0.182683</td>\n",
              "      <td>0.137194</td>\n",
              "      <td>-0.544502</td>\n",
              "      <td>0.760085</td>\n",
              "      <td>0.042999</td>\n",
              "      <td>0.010435</td>\n",
              "      <td>-0.137194</td>\n",
              "      <td>-0.246579</td>\n",
              "      <td>-0.013096</td>\n",
              "      <td>-0.800710</td>\n",
              "      <td>-0.098382</td>\n",
              "      <td>1.014945</td>\n",
              "      <td>-0.020095</td>\n",
              "      <td>-0.056917</td>\n",
              "      <td>-0.975970</td>\n",
              "      <td>0.495818</td>\n",
              "      <td>0.444503</td>\n",
              "      <td>-0.424728</td>\n",
              "    </tr>\n",
              "  </tbody>\n",
              "</table>\n",
              "</div>\n",
              "      <button class=\"colab-df-convert\" onclick=\"convertToInteractive('df-6e11b2bd-47ee-4685-87df-56a5d6fe8eca')\"\n",
              "              title=\"Convert this dataframe to an interactive table.\"\n",
              "              style=\"display:none;\">\n",
              "        \n",
              "  <svg xmlns=\"http://www.w3.org/2000/svg\" height=\"24px\"viewBox=\"0 0 24 24\"\n",
              "       width=\"24px\">\n",
              "    <path d=\"M0 0h24v24H0V0z\" fill=\"none\"/>\n",
              "    <path d=\"M18.56 5.44l.94 2.06.94-2.06 2.06-.94-2.06-.94-.94-2.06-.94 2.06-2.06.94zm-11 1L8.5 8.5l.94-2.06 2.06-.94-2.06-.94L8.5 2.5l-.94 2.06-2.06.94zm10 10l.94 2.06.94-2.06 2.06-.94-2.06-.94-.94-2.06-.94 2.06-2.06.94z\"/><path d=\"M17.41 7.96l-1.37-1.37c-.4-.4-.92-.59-1.43-.59-.52 0-1.04.2-1.43.59L10.3 9.45l-7.72 7.72c-.78.78-.78 2.05 0 2.83L4 21.41c.39.39.9.59 1.41.59.51 0 1.02-.2 1.41-.59l7.78-7.78 2.81-2.81c.8-.78.8-2.07 0-2.86zM5.41 20L4 18.59l7.72-7.72 1.47 1.35L5.41 20z\"/>\n",
              "  </svg>\n",
              "      </button>\n",
              "      \n",
              "  <style>\n",
              "    .colab-df-container {\n",
              "      display:flex;\n",
              "      flex-wrap:wrap;\n",
              "      gap: 12px;\n",
              "    }\n",
              "\n",
              "    .colab-df-convert {\n",
              "      background-color: #E8F0FE;\n",
              "      border: none;\n",
              "      border-radius: 50%;\n",
              "      cursor: pointer;\n",
              "      display: none;\n",
              "      fill: #1967D2;\n",
              "      height: 32px;\n",
              "      padding: 0 0 0 0;\n",
              "      width: 32px;\n",
              "    }\n",
              "\n",
              "    .colab-df-convert:hover {\n",
              "      background-color: #E2EBFA;\n",
              "      box-shadow: 0px 1px 2px rgba(60, 64, 67, 0.3), 0px 1px 3px 1px rgba(60, 64, 67, 0.15);\n",
              "      fill: #174EA6;\n",
              "    }\n",
              "\n",
              "    [theme=dark] .colab-df-convert {\n",
              "      background-color: #3B4455;\n",
              "      fill: #D2E3FC;\n",
              "    }\n",
              "\n",
              "    [theme=dark] .colab-df-convert:hover {\n",
              "      background-color: #434B5C;\n",
              "      box-shadow: 0px 1px 3px 1px rgba(0, 0, 0, 0.15);\n",
              "      filter: drop-shadow(0px 1px 2px rgba(0, 0, 0, 0.3));\n",
              "      fill: #FFFFFF;\n",
              "    }\n",
              "  </style>\n",
              "\n",
              "      <script>\n",
              "        const buttonEl =\n",
              "          document.querySelector('#df-6e11b2bd-47ee-4685-87df-56a5d6fe8eca button.colab-df-convert');\n",
              "        buttonEl.style.display =\n",
              "          google.colab.kernel.accessAllowed ? 'block' : 'none';\n",
              "\n",
              "        async function convertToInteractive(key) {\n",
              "          const element = document.querySelector('#df-6e11b2bd-47ee-4685-87df-56a5d6fe8eca');\n",
              "          const dataTable =\n",
              "            await google.colab.kernel.invokeFunction('convertToInteractive',\n",
              "                                                     [key], {});\n",
              "          if (!dataTable) return;\n",
              "\n",
              "          const docLinkHtml = 'Like what you see? Visit the ' +\n",
              "            '<a target=\"_blank\" href=https://colab.research.google.com/notebooks/data_table.ipynb>data table notebook</a>'\n",
              "            + ' to learn more about interactive tables.';\n",
              "          element.innerHTML = '';\n",
              "          dataTable['output_type'] = 'display_data';\n",
              "          await google.colab.output.renderOutput(dataTable, element);\n",
              "          const docLink = document.createElement('div');\n",
              "          docLink.innerHTML = docLinkHtml;\n",
              "          element.appendChild(docLink);\n",
              "        }\n",
              "      </script>\n",
              "    </div>\n",
              "  </div>\n",
              "  "
            ]
          },
          "metadata": {},
          "execution_count": 8
        }
      ]
    },
    {
      "cell_type": "code",
      "source": [
        "Y = df['selling_price'].values\n",
        "\n",
        "X = df[df.columns.drop('selling_price')]\n",
        "\n",
        "X.head()"
      ],
      "metadata": {
        "colab": {
          "base_uri": "https://localhost:8080/",
          "height": 287
        },
        "id": "Vd1FbZ7WnJXQ",
        "outputId": "a4022190-34cd-4aa8-b4d5-a5bc4437b015"
      },
      "execution_count": null,
      "outputs": [
        {
          "output_type": "execute_result",
          "data": {
            "text/plain": [
              "       year  km_driven   mileage    engine  max_power       age      make  \\\n",
              "0 -0.801317   1.195828  0.045745 -1.310754  -1.157780  0.801317 -0.433854   \n",
              "1  0.450030  -0.737872 -0.140402 -0.537456  -0.360203 -0.450030 -0.327501   \n",
              "2 -1.426990   0.035608 -0.582501 -0.537456  -0.404885  1.426990 -0.327501   \n",
              "3 -0.801317  -0.409143  0.329620 -0.921213  -0.693085  0.801317 -0.433854   \n",
              "4  0.137194  -0.544502  0.760085  0.042999   0.010435 -0.137194 -0.246579   \n",
              "\n",
              "      model  Individual  Trustmark Dealer    Diesel  Electric       LPG  \\\n",
              "0 -1.125683    1.248892         -0.098382 -0.985275 -0.020095 -0.056917   \n",
              "1 -0.333227    1.248892         -0.098382 -0.985275 -0.020095 -0.056917   \n",
              "2 -0.789807    1.248892         -0.098382 -0.985275 -0.020095 -0.056917   \n",
              "3 -0.905265    1.248892         -0.098382 -0.985275 -0.020095 -0.056917   \n",
              "4 -0.013096   -0.800710         -0.098382  1.014945 -0.020095 -0.056917   \n",
              "\n",
              "     Petrol    Manual         5        >5  \n",
              "0  1.024622  0.495818  0.444503 -0.424728  \n",
              "1  1.024622  0.495818  0.444503 -0.424728  \n",
              "2  1.024622  0.495818  0.444503 -0.424728  \n",
              "3  1.024622  0.495818  0.444503 -0.424728  \n",
              "4 -0.975970  0.495818  0.444503 -0.424728  "
            ],
            "text/html": [
              "\n",
              "  <div id=\"df-db631627-3316-48d9-91b1-6932089fe79b\">\n",
              "    <div class=\"colab-df-container\">\n",
              "      <div>\n",
              "<style scoped>\n",
              "    .dataframe tbody tr th:only-of-type {\n",
              "        vertical-align: middle;\n",
              "    }\n",
              "\n",
              "    .dataframe tbody tr th {\n",
              "        vertical-align: top;\n",
              "    }\n",
              "\n",
              "    .dataframe thead th {\n",
              "        text-align: right;\n",
              "    }\n",
              "</style>\n",
              "<table border=\"1\" class=\"dataframe\">\n",
              "  <thead>\n",
              "    <tr style=\"text-align: right;\">\n",
              "      <th></th>\n",
              "      <th>year</th>\n",
              "      <th>km_driven</th>\n",
              "      <th>mileage</th>\n",
              "      <th>engine</th>\n",
              "      <th>max_power</th>\n",
              "      <th>age</th>\n",
              "      <th>make</th>\n",
              "      <th>model</th>\n",
              "      <th>Individual</th>\n",
              "      <th>Trustmark Dealer</th>\n",
              "      <th>Diesel</th>\n",
              "      <th>Electric</th>\n",
              "      <th>LPG</th>\n",
              "      <th>Petrol</th>\n",
              "      <th>Manual</th>\n",
              "      <th>5</th>\n",
              "      <th>&gt;5</th>\n",
              "    </tr>\n",
              "  </thead>\n",
              "  <tbody>\n",
              "    <tr>\n",
              "      <th>0</th>\n",
              "      <td>-0.801317</td>\n",
              "      <td>1.195828</td>\n",
              "      <td>0.045745</td>\n",
              "      <td>-1.310754</td>\n",
              "      <td>-1.157780</td>\n",
              "      <td>0.801317</td>\n",
              "      <td>-0.433854</td>\n",
              "      <td>-1.125683</td>\n",
              "      <td>1.248892</td>\n",
              "      <td>-0.098382</td>\n",
              "      <td>-0.985275</td>\n",
              "      <td>-0.020095</td>\n",
              "      <td>-0.056917</td>\n",
              "      <td>1.024622</td>\n",
              "      <td>0.495818</td>\n",
              "      <td>0.444503</td>\n",
              "      <td>-0.424728</td>\n",
              "    </tr>\n",
              "    <tr>\n",
              "      <th>1</th>\n",
              "      <td>0.450030</td>\n",
              "      <td>-0.737872</td>\n",
              "      <td>-0.140402</td>\n",
              "      <td>-0.537456</td>\n",
              "      <td>-0.360203</td>\n",
              "      <td>-0.450030</td>\n",
              "      <td>-0.327501</td>\n",
              "      <td>-0.333227</td>\n",
              "      <td>1.248892</td>\n",
              "      <td>-0.098382</td>\n",
              "      <td>-0.985275</td>\n",
              "      <td>-0.020095</td>\n",
              "      <td>-0.056917</td>\n",
              "      <td>1.024622</td>\n",
              "      <td>0.495818</td>\n",
              "      <td>0.444503</td>\n",
              "      <td>-0.424728</td>\n",
              "    </tr>\n",
              "    <tr>\n",
              "      <th>2</th>\n",
              "      <td>-1.426990</td>\n",
              "      <td>0.035608</td>\n",
              "      <td>-0.582501</td>\n",
              "      <td>-0.537456</td>\n",
              "      <td>-0.404885</td>\n",
              "      <td>1.426990</td>\n",
              "      <td>-0.327501</td>\n",
              "      <td>-0.789807</td>\n",
              "      <td>1.248892</td>\n",
              "      <td>-0.098382</td>\n",
              "      <td>-0.985275</td>\n",
              "      <td>-0.020095</td>\n",
              "      <td>-0.056917</td>\n",
              "      <td>1.024622</td>\n",
              "      <td>0.495818</td>\n",
              "      <td>0.444503</td>\n",
              "      <td>-0.424728</td>\n",
              "    </tr>\n",
              "    <tr>\n",
              "      <th>3</th>\n",
              "      <td>-0.801317</td>\n",
              "      <td>-0.409143</td>\n",
              "      <td>0.329620</td>\n",
              "      <td>-0.921213</td>\n",
              "      <td>-0.693085</td>\n",
              "      <td>0.801317</td>\n",
              "      <td>-0.433854</td>\n",
              "      <td>-0.905265</td>\n",
              "      <td>1.248892</td>\n",
              "      <td>-0.098382</td>\n",
              "      <td>-0.985275</td>\n",
              "      <td>-0.020095</td>\n",
              "      <td>-0.056917</td>\n",
              "      <td>1.024622</td>\n",
              "      <td>0.495818</td>\n",
              "      <td>0.444503</td>\n",
              "      <td>-0.424728</td>\n",
              "    </tr>\n",
              "    <tr>\n",
              "      <th>4</th>\n",
              "      <td>0.137194</td>\n",
              "      <td>-0.544502</td>\n",
              "      <td>0.760085</td>\n",
              "      <td>0.042999</td>\n",
              "      <td>0.010435</td>\n",
              "      <td>-0.137194</td>\n",
              "      <td>-0.246579</td>\n",
              "      <td>-0.013096</td>\n",
              "      <td>-0.800710</td>\n",
              "      <td>-0.098382</td>\n",
              "      <td>1.014945</td>\n",
              "      <td>-0.020095</td>\n",
              "      <td>-0.056917</td>\n",
              "      <td>-0.975970</td>\n",
              "      <td>0.495818</td>\n",
              "      <td>0.444503</td>\n",
              "      <td>-0.424728</td>\n",
              "    </tr>\n",
              "  </tbody>\n",
              "</table>\n",
              "</div>\n",
              "      <button class=\"colab-df-convert\" onclick=\"convertToInteractive('df-db631627-3316-48d9-91b1-6932089fe79b')\"\n",
              "              title=\"Convert this dataframe to an interactive table.\"\n",
              "              style=\"display:none;\">\n",
              "        \n",
              "  <svg xmlns=\"http://www.w3.org/2000/svg\" height=\"24px\"viewBox=\"0 0 24 24\"\n",
              "       width=\"24px\">\n",
              "    <path d=\"M0 0h24v24H0V0z\" fill=\"none\"/>\n",
              "    <path d=\"M18.56 5.44l.94 2.06.94-2.06 2.06-.94-2.06-.94-.94-2.06-.94 2.06-2.06.94zm-11 1L8.5 8.5l.94-2.06 2.06-.94-2.06-.94L8.5 2.5l-.94 2.06-2.06.94zm10 10l.94 2.06.94-2.06 2.06-.94-2.06-.94-.94-2.06-.94 2.06-2.06.94z\"/><path d=\"M17.41 7.96l-1.37-1.37c-.4-.4-.92-.59-1.43-.59-.52 0-1.04.2-1.43.59L10.3 9.45l-7.72 7.72c-.78.78-.78 2.05 0 2.83L4 21.41c.39.39.9.59 1.41.59.51 0 1.02-.2 1.41-.59l7.78-7.78 2.81-2.81c.8-.78.8-2.07 0-2.86zM5.41 20L4 18.59l7.72-7.72 1.47 1.35L5.41 20z\"/>\n",
              "  </svg>\n",
              "      </button>\n",
              "      \n",
              "  <style>\n",
              "    .colab-df-container {\n",
              "      display:flex;\n",
              "      flex-wrap:wrap;\n",
              "      gap: 12px;\n",
              "    }\n",
              "\n",
              "    .colab-df-convert {\n",
              "      background-color: #E8F0FE;\n",
              "      border: none;\n",
              "      border-radius: 50%;\n",
              "      cursor: pointer;\n",
              "      display: none;\n",
              "      fill: #1967D2;\n",
              "      height: 32px;\n",
              "      padding: 0 0 0 0;\n",
              "      width: 32px;\n",
              "    }\n",
              "\n",
              "    .colab-df-convert:hover {\n",
              "      background-color: #E2EBFA;\n",
              "      box-shadow: 0px 1px 2px rgba(60, 64, 67, 0.3), 0px 1px 3px 1px rgba(60, 64, 67, 0.15);\n",
              "      fill: #174EA6;\n",
              "    }\n",
              "\n",
              "    [theme=dark] .colab-df-convert {\n",
              "      background-color: #3B4455;\n",
              "      fill: #D2E3FC;\n",
              "    }\n",
              "\n",
              "    [theme=dark] .colab-df-convert:hover {\n",
              "      background-color: #434B5C;\n",
              "      box-shadow: 0px 1px 3px 1px rgba(0, 0, 0, 0.15);\n",
              "      filter: drop-shadow(0px 1px 2px rgba(0, 0, 0, 0.3));\n",
              "      fill: #FFFFFF;\n",
              "    }\n",
              "  </style>\n",
              "\n",
              "      <script>\n",
              "        const buttonEl =\n",
              "          document.querySelector('#df-db631627-3316-48d9-91b1-6932089fe79b button.colab-df-convert');\n",
              "        buttonEl.style.display =\n",
              "          google.colab.kernel.accessAllowed ? 'block' : 'none';\n",
              "\n",
              "        async function convertToInteractive(key) {\n",
              "          const element = document.querySelector('#df-db631627-3316-48d9-91b1-6932089fe79b');\n",
              "          const dataTable =\n",
              "            await google.colab.kernel.invokeFunction('convertToInteractive',\n",
              "                                                     [key], {});\n",
              "          if (!dataTable) return;\n",
              "\n",
              "          const docLinkHtml = 'Like what you see? Visit the ' +\n",
              "            '<a target=\"_blank\" href=https://colab.research.google.com/notebooks/data_table.ipynb>data table notebook</a>'\n",
              "            + ' to learn more about interactive tables.';\n",
              "          element.innerHTML = '';\n",
              "          dataTable['output_type'] = 'display_data';\n",
              "          await google.colab.output.renderOutput(dataTable, element);\n",
              "          const docLink = document.createElement('div');\n",
              "          docLink.innerHTML = docLinkHtml;\n",
              "          element.appendChild(docLink);\n",
              "        }\n",
              "      </script>\n",
              "    </div>\n",
              "  </div>\n",
              "  "
            ]
          },
          "metadata": {},
          "execution_count": 17
        }
      ]
    },
    {
      "cell_type": "code",
      "source": [
        "print(X.shape, Y.shape)"
      ],
      "metadata": {
        "colab": {
          "base_uri": "https://localhost:8080/"
        },
        "id": "2a_LWXD8oCrQ",
        "outputId": "7c706110-ff12-440b-e6dd-b526af30b487"
      },
      "execution_count": null,
      "outputs": [
        {
          "output_type": "stream",
          "name": "stdout",
          "text": [
            "(19820, 17) (19820,)\n"
          ]
        }
      ]
    },
    {
      "cell_type": "markdown",
      "source": [
        "add x(0) to X"
      ],
      "metadata": {
        "id": "NN7k_nn8oTpl"
      }
    },
    {
      "cell_type": "code",
      "source": [
        "ones = np.ones((X.shape[0],1))\n",
        "X = np.hstack((ones,X))"
      ],
      "metadata": {
        "id": "zTNRDFi0oTTv"
      },
      "execution_count": null,
      "outputs": []
    },
    {
      "cell_type": "code",
      "source": [
        "X.shape"
      ],
      "metadata": {
        "colab": {
          "base_uri": "https://localhost:8080/"
        },
        "id": "MU_kcNsYoL5X",
        "outputId": "068643ed-3b11-45a4-c4ec-0cf58e1c3e27"
      },
      "execution_count": null,
      "outputs": [
        {
          "output_type": "execute_result",
          "data": {
            "text/plain": [
              "(19820, 18)"
            ]
          },
          "metadata": {},
          "execution_count": 20
        }
      ]
    },
    {
      "cell_type": "code",
      "source": [
        "weight, err_list = gradient_descent(X,Y)"
      ],
      "metadata": {
        "id": "naAbS9U4o_Ss"
      },
      "execution_count": null,
      "outputs": []
    },
    {
      "cell_type": "code",
      "source": [
        "weight"
      ],
      "metadata": {
        "colab": {
          "base_uri": "https://localhost:8080/"
        },
        "id": "hNf8frCjpby9",
        "outputId": "b875dfd6-5359-4c61-d719-7535c5abb110"
      },
      "execution_count": null,
      "outputs": [
        {
          "output_type": "execute_result",
          "data": {
            "text/plain": [
              "array([-5.11217932e-17,  8.76070088e-02, -2.05627076e-02, -5.24360643e-02,\n",
              "        3.06503884e-02,  7.91173377e-02, -8.76070088e-02,  1.25960006e-01,\n",
              "        6.50485630e-01, -1.84172981e-02, -4.23482707e-03,  2.76000052e-02,\n",
              "        1.56662213e-02,  4.17807168e-03, -2.52214378e-02, -3.07030687e-02,\n",
              "       -5.23923083e-03, -1.85044383e-03])"
            ]
          },
          "metadata": {},
          "execution_count": 22
        }
      ]
    },
    {
      "cell_type": "code",
      "source": [
        "weight.shape"
      ],
      "metadata": {
        "colab": {
          "base_uri": "https://localhost:8080/"
        },
        "id": "JK76K_t-pdys",
        "outputId": "01f9588b-a256-421a-923a-26a4581315b4"
      },
      "execution_count": null,
      "outputs": [
        {
          "output_type": "execute_result",
          "data": {
            "text/plain": [
              "(18,)"
            ]
          },
          "metadata": {},
          "execution_count": 23
        }
      ]
    },
    {
      "cell_type": "code",
      "source": [
        "fig = plt.figure()\n",
        "plt.plot(err_list)\n",
        "plt.show()"
      ],
      "metadata": {
        "colab": {
          "base_uri": "https://localhost:8080/",
          "height": 430
        },
        "id": "0EvMweT8pg-2",
        "outputId": "66930a51-b69a-4462-a7d0-dab65ba5f127"
      },
      "execution_count": null,
      "outputs": [
        {
          "output_type": "display_data",
          "data": {
            "text/plain": [
              "<Figure size 640x480 with 1 Axes>"
            ],
            "image/png": "[encoded data removed]"
          },
          "metadata": {}
        }
      ]
    },
    {
      "cell_type": "code",
      "source": [
        "Y_hat = predict(X,weight)\n",
        "Y_hat"
      ],
      "metadata": {
        "colab": {
          "base_uri": "https://localhost:8080/"
        },
        "id": "2prIFPzetdP0",
        "outputId": "2a093a75-ad97-4602-c77f-eafeb8a7aaef"
      },
      "execution_count": null,
      "outputs": [
        {
          "output_type": "execute_result",
          "data": {
            "text/plain": [
              "array([-1.1789936 , -0.29453589, -0.91667313, ..., -0.26030882,\n",
              "       -0.9622889 ,  0.98914772])"
            ]
          },
          "metadata": {},
          "execution_count": 27
        }
      ]
    },
    {
      "cell_type": "code",
      "source": [
        "def r2_score_ud(Y,Y_hat):\n",
        "  ssr = np.sum((Y-Y_hat)**2)\n",
        "  sst = np.sum((Y-np.mean(Y))**2)\n",
        "  return 1 - ssr/sst"
      ],
      "metadata": {
        "id": "XPgBv8qUp_I8"
      },
      "execution_count": null,
      "outputs": []
    },
    {
      "cell_type": "code",
      "source": [
        "print(r2_score_ud(Y,Y_hat))"
      ],
      "metadata": {
        "colab": {
          "base_uri": "https://localhost:8080/"
        },
        "id": "sr22ceDJt_TH",
        "outputId": "f446263a-e247-4815-c05b-49f0e87c9087"
      },
      "execution_count": null,
      "outputs": [
        {
          "output_type": "stream",
          "name": "stdout",
          "text": [
            "0.9385147408229634\n"
          ]
        }
      ]
    },
    {
      "cell_type": "markdown",
      "source": [
        "calculate r2-score with a single feature"
      ],
      "metadata": {
        "id": "hUmdOCcwuu1N"
      }
    },
    {
      "cell_type": "code",
      "source": [
        "X = df[['max_power','mileage','age']]"
      ],
      "metadata": {
        "id": "r4IhUkSXuMFk"
      },
      "execution_count": null,
      "outputs": []
    },
    {
      "cell_type": "code",
      "source": [
        "X.shape"
      ],
      "metadata": {
        "colab": {
          "base_uri": "https://localhost:8080/"
        },
        "id": "k4H_HioVvFAx",
        "outputId": "2b905f49-a9d6-407e-83fc-b1a20e19904b"
      },
      "execution_count": null,
      "outputs": [
        {
          "output_type": "execute_result",
          "data": {
            "text/plain": [
              "(19820, 3)"
            ]
          },
          "metadata": {},
          "execution_count": 51
        }
      ]
    },
    {
      "cell_type": "code",
      "source": [
        "ones = np.ones((X.shape[0],1))\n",
        "X = np.hstack((ones,X))"
      ],
      "metadata": {
        "id": "BanVi2-1utnS"
      },
      "execution_count": null,
      "outputs": []
    },
    {
      "cell_type": "code",
      "source": [
        "X.shape"
      ],
      "metadata": {
        "colab": {
          "base_uri": "https://localhost:8080/"
        },
        "id": "X3ML0PI4u4gf",
        "outputId": "99773fb0-bd2c-4ec1-ca1d-6b1fdc7d44b7"
      },
      "execution_count": null,
      "outputs": [
        {
          "output_type": "execute_result",
          "data": {
            "text/plain": [
              "(19820, 4)"
            ]
          },
          "metadata": {},
          "execution_count": 53
        }
      ]
    },
    {
      "cell_type": "code",
      "source": [
        "weight, err_list = gradient_descent(X,Y)\n",
        "\n",
        "Y_hat = predict(X,weight)\n",
        "\n",
        "print(r2_score_ud(Y,Y_hat))"
      ],
      "metadata": {
        "colab": {
          "base_uri": "https://localhost:8080/"
        },
        "id": "DjP0usnKvsiU",
        "outputId": "f4016e53-0bb7-4682-d172-dcaffba26908"
      },
      "execution_count": null,
      "outputs": [
        {
          "output_type": "stream",
          "name": "stdout",
          "text": [
            "0.7089958555801297\n"
          ]
        }
      ]
    },
    {
      "cell_type": "markdown",
      "source": [
        "scikit learn implementation"
      ],
      "metadata": {
        "id": "22VhqIY70tVb"
      }
    },
    {
      "cell_type": "code",
      "source": [
        "from sklearn.linear_model import LinearRegression"
      ],
      "metadata": {
        "id": "t8cvsrttwX_y"
      },
      "execution_count": null,
      "outputs": []
    },
    {
      "cell_type": "code",
      "source": [
        "model = LinearRegression()"
      ],
      "metadata": {
        "id": "7iGU0Bqn04ke"
      },
      "execution_count": null,
      "outputs": []
    },
    {
      "cell_type": "code",
      "source": [
        "Y = df['selling_price'].values\n",
        "X = df[df.columns.drop('selling_price')].values"
      ],
      "metadata": {
        "id": "88XWYu142B1L"
      },
      "execution_count": null,
      "outputs": []
    },
    {
      "cell_type": "code",
      "source": [
        "model.fit(X,Y)"
      ],
      "metadata": {
        "colab": {
          "base_uri": "https://localhost:8080/",
          "height": 74
        },
        "id": "YiM3pSpt1FNe",
        "outputId": "c7299186-ffa2-4aa3-9188-a808953a0302"
      },
      "execution_count": null,
      "outputs": [
        {
          "output_type": "execute_result",
          "data": {
            "text/plain": [
              "LinearRegression()"
            ],
            "text/html": [
              "<style>#sk-container-id-3 {color: black;background-color: white;}#sk-container-id-3 pre{padding: 0;}#sk-container-id-3 div.sk-toggleable {background-color: white;}#sk-container-id-3 label.sk-toggleable__label {cursor: pointer;display: block;width: 100%;margin-bottom: 0;padding: 0.3em;box-sizing: border-box;text-align: center;}#sk-container-id-3 label.sk-toggleable__label-arrow:before {content: \"▸\";float: left;margin-right: 0.25em;color: #696969;}#sk-container-id-3 label.sk-toggleable__label-arrow:hover:before {color: black;}#sk-container-id-3 div.sk-estimator:hover label.sk-toggleable__label-arrow:before {color: black;}#sk-container-id-3 div.sk-toggleable__content {max-height: 0;max-width: 0;overflow: hidden;text-align: left;background-color: #f0f8ff;}#sk-container-id-3 div.sk-toggleable__content pre {margin: 0.2em;color: black;border-radius: 0.25em;background-color: #f0f8ff;}#sk-container-id-3 input.sk-toggleable__control:checked~div.sk-toggleable__content {max-height: 200px;max-width: 100%;overflow: auto;}#sk-container-id-3 input.sk-toggleable__control:checked~label.sk-toggleable__label-arrow:before {content: \"▾\";}#sk-container-id-3 div.sk-estimator input.sk-toggleable__control:checked~label.sk-toggleable__label {background-color: #d4ebff;}#sk-container-id-3 div.sk-label input.sk-toggleable__control:checked~label.sk-toggleable__label {background-color: #d4ebff;}#sk-container-id-3 input.sk-hidden--visually {border: 0;clip: rect(1px 1px 1px 1px);clip: rect(1px, 1px, 1px, 1px);height: 1px;margin: -1px;overflow: hidden;padding: 0;position: absolute;width: 1px;}#sk-container-id-3 div.sk-estimator {font-family: monospace;background-color: #f0f8ff;border: 1px dotted black;border-radius: 0.25em;box-sizing: border-box;margin-bottom: 0.5em;}#sk-container-id-3 div.sk-estimator:hover {background-color: #d4ebff;}#sk-container-id-3 div.sk-parallel-item::after {content: \"\";width: 100%;border-bottom: 1px solid gray;flex-grow: 1;}#sk-container-id-3 div.sk-label:hover label.sk-toggleable__label {background-color: #d4ebff;}#sk-container-id-3 div.sk-serial::before {content: \"\";position: absolute;border-left: 1px solid gray;box-sizing: border-box;top: 0;bottom: 0;left: 50%;z-index: 0;}#sk-container-id-3 div.sk-serial {display: flex;flex-direction: column;align-items: center;background-color: white;padding-right: 0.2em;padding-left: 0.2em;position: relative;}#sk-container-id-3 div.sk-item {position: relative;z-index: 1;}#sk-container-id-3 div.sk-parallel {display: flex;align-items: stretch;justify-content: center;background-color: white;position: relative;}#sk-container-id-3 div.sk-item::before, #sk-container-id-3 div.sk-parallel-item::before {content: \"\";position: absolute;border-left: 1px solid gray;box-sizing: border-box;top: 0;bottom: 0;left: 50%;z-index: -1;}#sk-container-id-3 div.sk-parallel-item {display: flex;flex-direction: column;z-index: 1;position: relative;background-color: white;}#sk-container-id-3 div.sk-parallel-item:first-child::after {align-self: flex-end;width: 50%;}#sk-container-id-3 div.sk-parallel-item:last-child::after {align-self: flex-start;width: 50%;}#sk-container-id-3 div.sk-parallel-item:only-child::after {width: 0;}#sk-container-id-3 div.sk-dashed-wrapped {border: 1px dashed gray;margin: 0 0.4em 0.5em 0.4em;box-sizing: border-box;padding-bottom: 0.4em;background-color: white;}#sk-container-id-3 div.sk-label label {font-family: monospace;font-weight: bold;display: inline-block;line-height: 1.2em;}#sk-container-id-3 div.sk-label-container {text-align: center;}#sk-container-id-3 div.sk-container {/* jupyter's `normalize.less` sets `[hidden] { display: none; }` but bootstrap.min.css set `[hidden] { display: none !important; }` so we also need the `!important` here to be able to override the default hidden behavior on the sphinx rendered scikit-learn.org. See: https://github.com/scikit-learn/scikit-learn/issues/21755 */display: inline-block !important;position: relative;}#sk-container-id-3 div.sk-text-repr-fallback {display: none;}</style><div id=\"sk-container-id-3\" class=\"sk-top-container\"><div class=\"sk-text-repr-fallback\"><pre>LinearRegression()</pre><b>In a Jupyter environment, please rerun this cell to show the HTML representation or trust the notebook. <br />On GitHub, the HTML representation is unable to render, please try loading this page with nbviewer.org.</b></div><div class=\"sk-container\" hidden><div class=\"sk-item\"><div class=\"sk-estimator sk-toggleable\"><input class=\"sk-toggleable__control sk-hidden--visually\" id=\"sk-estimator-id-3\" type=\"checkbox\" checked><label for=\"sk-estimator-id-3\" class=\"sk-toggleable__label sk-toggleable__label-arrow\">LinearRegression</label><div class=\"sk-toggleable__content\"><pre>LinearRegression()</pre></div></div></div></div></div>"
            ]
          },
          "metadata": {},
          "execution_count": 78
        }
      ]
    },
    {
      "cell_type": "markdown",
      "source": [
        "display the parameters of the model"
      ],
      "metadata": {
        "id": "dtzDqpJm1n88"
      }
    },
    {
      "cell_type": "code",
      "source": [
        "print(model.coef_)\n",
        "print(model.intercept_)"
      ],
      "metadata": {
        "colab": {
          "base_uri": "https://localhost:8080/"
        },
        "id": "mcWAhyC-1rHD",
        "outputId": "ad262609-3d1b-4aba-ef17-9e9f749d97e8"
      },
      "execution_count": null,
      "outputs": [
        {
          "output_type": "stream",
          "name": "stdout",
          "text": [
            "[ 6.33860292e+10 -1.82189941e-02 -4.86839961e-02  3.13816980e-02\n",
            "  2.73645062e-02  6.33860292e+10  6.07876506e-02  7.94149781e-01\n",
            " -1.69531423e-02 -3.47590617e-03  1.40814325e-02  1.27543583e-02\n",
            "  2.83212318e-03 -2.25768595e-02 -1.29345257e-02 -2.46365460e-02\n",
            " -3.26575305e-02]\n",
            "8.539587169074173e-05\n"
          ]
        }
      ]
    },
    {
      "cell_type": "code",
      "source": [
        "Y_hat = model.predict(X)"
      ],
      "metadata": {
        "id": "nHvHihzR1Ynq"
      },
      "execution_count": null,
      "outputs": []
    },
    {
      "cell_type": "code",
      "source": [
        "print(r2_score_ud(Y,Y_hat))"
      ],
      "metadata": {
        "colab": {
          "base_uri": "https://localhost:8080/"
        },
        "id": "0Lf7Pmud3Mmz",
        "outputId": "8930b217-155b-4020-843b-33e93bc24134"
      },
      "execution_count": null,
      "outputs": [
        {
          "output_type": "stream",
          "name": "stdout",
          "text": [
            "0.709000239442724\n"
          ]
        }
      ]
    },
    {
      "cell_type": "markdown",
      "source": [
        "get metrics using sklearn"
      ],
      "metadata": {
        "id": "MQtQJpDm3jSk"
      }
    },
    {
      "cell_type": "code",
      "source": [
        "from sklearn.metrics import r2_score"
      ],
      "metadata": {
        "id": "O1PplSL73UB_"
      },
      "execution_count": null,
      "outputs": []
    },
    {
      "cell_type": "code",
      "source": [
        "print(r2_score(Y,Y_hat))"
      ],
      "metadata": {
        "colab": {
          "base_uri": "https://localhost:8080/"
        },
        "id": "iL8OKWzF33zc",
        "outputId": "812c0f26-5b7f-4dc2-edf8-237b1c70ac2a"
      },
      "execution_count": null,
      "outputs": [
        {
          "output_type": "stream",
          "name": "stdout",
          "text": [
            "0.9421890705278853\n"
          ]
        }
      ]
    },
    {
      "cell_type": "code",
      "source": [
        "def adj_r2_score(Y,Y_hat,weight):\n",
        "  ssr = np.sum((Y-Y_hat)**2)\n",
        "  sst = np.sum((Y-np.mean(Y))**2)\n",
        "  r2_score = 1-ssr/sst\n",
        "  n = Y.shape[0]\n",
        "  d = len(weight)\n",
        "  return 1-((1-r2_score)*(n-1)/(n-d-1))"
      ],
      "metadata": {
        "id": "xOAGu8sq4Ia0"
      },
      "execution_count": null,
      "outputs": []
    },
    {
      "cell_type": "code",
      "source": [
        "print(adj_r2_score(Y, Y_hat, model.coef_))"
      ],
      "metadata": {
        "colab": {
          "base_uri": "https://localhost:8080/"
        },
        "id": "w7b2YF-l5kPr",
        "outputId": "71c33f88-8d97-47ca-d21c-9684cff34681"
      },
      "execution_count": null,
      "outputs": [
        {
          "output_type": "stream",
          "name": "stdout",
          "text": [
            "0.9421394398945641\n"
          ]
        }
      ]
    },
    {
      "cell_type": "code",
      "source": [],
      "metadata": {
        "id": "SvVyHKme51ZX"
      },
      "execution_count": null,
      "outputs": []
    }
  ]
}